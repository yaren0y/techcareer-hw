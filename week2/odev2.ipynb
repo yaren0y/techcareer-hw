{
 "cells": [
  {
   "cell_type": "code",
   "execution_count": 12,
   "id": "0cfd6912-bf83-4b48-b1c0-2d8e53643dd3",
   "metadata": {
    "collapsed": true,
    "jupyter": {
     "outputs_hidden": true
    }
   },
   "outputs": [
    {
     "name": "stdin",
     "output_type": "stream",
     "text": [
      "Bir sayı giriniz:  5\n"
     ]
    },
    {
     "name": "stdout",
     "output_type": "stream",
     "text": [
      "Pozitif tek\n"
     ]
    }
   ],
   "source": [
    "#soru 1\n",
    "\n",
    "a = int(input(\"Bir sayı giriniz: \"))\n",
    "\n",
    "if a<0 and a%2==0 :  print(\"Negatif çift\")\n",
    "elif a<0 and a%2!=0 : print(\"Negatif tek\")\n",
    "elif a>0 and a%2==0 : print(\"Pozitif çift\")\n",
    "else : print(\"Pozitif tek\")"
   ]
  },
  {
   "cell_type": "code",
   "execution_count": 20,
   "id": "2c6d4e5a-5813-4949-ba16-490f1057582c",
   "metadata": {},
   "outputs": [
    {
     "name": "stdin",
     "output_type": "stream",
     "text": [
      "Herhangi bir kelime giriniz:  tahtarevalli\n"
     ]
    },
    {
     "name": "stdout",
     "output_type": "stream",
     "text": [
      "{'t': 2, 'a': 3, 'h': 1, 'r': 1, 'e': 1, 'v': 1, 'l': 2, 'i': 1}\n"
     ]
    }
   ],
   "source": [
    "#soru 2\n",
    "b = input(\"Herhangi bir kelime giriniz: \")\n",
    "sonuc={}\n",
    "for harf in b:\n",
    "    sonuc[harf]=sonuc.get(harf,0)+1\n",
    "print(sonuc)"
   ]
  },
  {
   "cell_type": "code",
   "execution_count": 32,
   "id": "d58d7fe0-e184-45fd-acf3-d785d307dad7",
   "metadata": {
    "collapsed": true,
    "jupyter": {
     "outputs_hidden": true
    }
   },
   "outputs": [
    {
     "name": "stdin",
     "output_type": "stream",
     "text": [
      "Geçerli bir şifre giriniz:  yAren12345\n"
     ]
    },
    {
     "name": "stdout",
     "output_type": "stream",
     "text": [
      "geçerli şifre\n"
     ]
    }
   ],
   "source": [
    "#soru 3\n",
    "c = input(\"Geçerli bir şifre giriniz: \")\n",
    "rakam= False\n",
    "buyuk_harf= False\n",
    "if len(c)<8 : print(\"Şifre en az 8 karakter içermeli.\")\n",
    "else: \n",
    "    for karakter in c :\n",
    "        if karakter.isdigit() : \n",
    "            rakam = True\n",
    "        if karakter.isupper():\n",
    "            buyuk_harf =True\n",
    "    if not rakam :\n",
    "        print(\"Şifre en az bir rakam içermeli.\")\n",
    "    elif not buyuk_harf: \n",
    "        print(\"Şifre en az bir büyük harf içermeli\")\n",
    "    else:\n",
    "        print(\"geçerli şifre\")\n",
    "    "
   ]
  },
  {
   "cell_type": "code",
   "execution_count": 35,
   "id": "ba924557-3c79-42fb-9695-ec8533716ca3",
   "metadata": {},
   "outputs": [
    {
     "name": "stdout",
     "output_type": "stream",
     "text": [
      "[25, 30, 18]\n"
     ]
    }
   ],
   "source": [
    "#soru 4\n",
    "list1 = [12,4,9,25,30,7,18]\n",
    "ort = sum(list1)/len(list1)\n",
    "list2=[]\n",
    "for i in list1:\n",
    "    if i>ort : \n",
    "        list2.append(i);\n",
    "print(list2)"
   ]
  },
  {
   "cell_type": "code",
   "execution_count": 1,
   "id": "0fa9d667-06c3-427a-a3c4-208122201672",
   "metadata": {},
   "outputs": [
    {
     "name": "stdout",
     "output_type": "stream",
     "text": [
      "*\n",
      "**\n",
      "***\n",
      "****\n",
      "*****\n"
     ]
    }
   ],
   "source": [
    "#soru 5\n",
    "n=5\n",
    "for i in range(1,n+1):\n",
    "    print(\"*\"*i)"
   ]
  },
  {
   "cell_type": "code",
   "execution_count": 2,
   "id": "ce7e0f52-b6e7-442f-8cdc-09a760cace07",
   "metadata": {},
   "outputs": [
    {
     "name": "stdin",
     "output_type": "stream",
     "text": [
      "Bir sayi giriniz 1\n",
      "Bir sayi giriniz 2\n",
      "Bir sayi giriniz 3\n",
      "Bir sayi giriniz 99\n",
      "Bir sayi giriniz 25\n",
      "Bir sayi giriniz 0\n"
     ]
    },
    {
     "name": "stdout",
     "output_type": "stream",
     "text": [
      "toplam: 130\n",
      "ortalama: 26.0\n"
     ]
    }
   ],
   "source": [
    "#soru 6\n",
    "dongu = True\n",
    "veri = []\n",
    "while dongu :\n",
    "    sayi = int(input(\"Bir sayi giriniz\"))\n",
    "    if sayi!=0 : veri.append(sayi)\n",
    "    else: dongu=False\n",
    "\n",
    "ort = sum(veri)/len(veri)\n",
    "print(\"toplam:\",sum(veri))\n",
    "print(\"ortalama:\",ort)\n",
    "\n",
    "    "
   ]
  },
  {
   "cell_type": "code",
   "execution_count": 3,
   "id": "99c87bed-2393-4211-b52f-a6160ea0ad24",
   "metadata": {},
   "outputs": [
    {
     "name": "stdin",
     "output_type": "stream",
     "text": [
      "Bir kelime giriniz:  yaren\n"
     ]
    },
    {
     "name": "stdout",
     "output_type": "stream",
     "text": [
      "Palindrom değil\n"
     ]
    }
   ],
   "source": [
    "#soru 7\n",
    "kelime=input(\"Bir kelime giriniz: \")\n",
    "if kelime == kelime[::-1]:\n",
    "    print(\"Palindrom\")\n",
    "else: print(\"Palindrom değil\")"
   ]
  },
  {
   "cell_type": "code",
   "execution_count": 12,
   "id": "7f520c5d-5a17-4ff7-95b5-609e6e814037",
   "metadata": {},
   "outputs": [
    {
     "name": "stdout",
     "output_type": "stream",
     "text": [
      "[225, 900, 2025, 3600, 5625, 8100]\n"
     ]
    }
   ],
   "source": [
    "#soru 8\n",
    "veri=[]\n",
    "for i in range (1,101):\n",
    "    if i%3==0 and i%5==0 :\n",
    "        veri.append(i**2)\n",
    "print(veri)\n",
    "    "
   ]
  },
  {
   "cell_type": "code",
   "execution_count": 10,
   "id": "33d7b797-2678-4d9b-a9e4-1d98588b0948",
   "metadata": {},
   "outputs": [
    {
     "name": "stdout",
     "output_type": "stream",
     "text": [
      "Bugün Hava Çok Sıcaktı\n"
     ]
    }
   ],
   "source": [
    "#soru 9\n",
    "cumle_1 = \"Bugün hava çok sıcaktı\"\n",
    "kelimeler=cumle_1.split()\n",
    "buyuk=[kelime.capitalize() for kelime in kelimeler]\n",
    "cumle_2=\" \".join(buyuk)\n",
    "print(cumle_2)    "
   ]
  },
  {
   "cell_type": "code",
   "execution_count": 16,
   "id": "a8338988-34c1-4935-998d-2dcee2fa0dd6",
   "metadata": {},
   "outputs": [
    {
     "name": "stdin",
     "output_type": "stream",
     "text": [
      " güzel\n",
      " iyi\n",
      " daha iyi olabilirmiş\n",
      " şaheser yaaaaaa\n",
      " mükemmeş bir başyapıt\n"
     ]
    },
    {
     "name": "stdout",
     "output_type": "stream",
     "text": [
      "Toplam yorum sayısı: 5\n",
      "\"iyi\" geçen yorum sayısı: 2\n",
      "En uzun yorum: mükemmeş bir başyapıt\n",
      "En kısa yorum: iyi\n",
      "Ortalama uzunluk: 12.8\n"
     ]
    }
   ],
   "source": [
    "yorumlar=[]\n",
    "for i in range(1,6):\n",
    "    yorum=input()\n",
    "    yorumlar.append(yorum)\n",
    "yorum_dict={}\n",
    "for i,yrm in enumerate(yorumlar):\n",
    "    yorum_dict[i]={\n",
    "        \"yorum\":yrm,\n",
    "        \"uzunluk\":len(yrm),\n",
    "        \"sum_iyi\":\"iyi\" in yrm.lower()\n",
    "    }\n",
    "toplam_yrm=len(yorum_dict)\n",
    "\n",
    "toplam_iyi=sum(1 for v in yorum_dict.values() if v[\"sum_iyi\"])\n",
    "\n",
    "max_yrm=max(yorum_dict.values(), key=lambda x: x[\"uzunluk\"])[\"yorum\"]\n",
    "min_yrm=min(yorum_dict.values(), key=lambda x: x[\"uzunluk\"])[\"yorum\"]\n",
    "\n",
    "ort_uzunluk=sum(v[\"uzunluk\"] for v in yorum_dict.values())/toplam_yrm\n",
    "\n",
    "print(f\"Toplam yorum sayısı: {toplam_yrm}\")\n",
    "print(f'\"iyi\" geçen yorum sayısı: {toplam_iyi}')\n",
    "print(f\"En uzun yorum: {max_yrm}\")\n",
    "print(f\"En kısa yorum: {min_yrm}\")\n",
    "print(f\"Ortalama uzunluk: {ort_uzunluk}\")"
   ]
  },
  {
   "cell_type": "code",
   "execution_count": null,
   "id": "9f016cc8-8a6b-4e85-a165-1273876ca999",
   "metadata": {},
   "outputs": [],
   "source": []
  }
 ],
 "metadata": {
  "kernelspec": {
   "display_name": "Python 3 (ipykernel)",
   "language": "python",
   "name": "python3"
  },
  "language_info": {
   "codemirror_mode": {
    "name": "ipython",
    "version": 3
   },
   "file_extension": ".py",
   "mimetype": "text/x-python",
   "name": "python",
   "nbconvert_exporter": "python",
   "pygments_lexer": "ipython3",
   "version": "3.13.5"
  }
 },
 "nbformat": 4,
 "nbformat_minor": 5
}
