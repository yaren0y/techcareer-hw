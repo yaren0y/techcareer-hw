{
 "cells": [
  {
   "cell_type": "code",
   "execution_count": 11,
   "id": "f050d09d-76ae-491b-935e-b2ebecc4f816",
   "metadata": {},
   "outputs": [
    {
     "name": "stdout",
     "output_type": "stream",
     "text": [
      "[85, 92, 76, 100]\n",
      "[76, 85, 92, 100]\n",
      "En büyük değer: 100\n",
      "En küçük değer: 76\n"
     ]
    }
   ],
   "source": [
    "#soru 1\n",
    "notlar = [85, 92, 76, 92, 100, 76, 85, 92]\n",
    "benzersiz = []\n",
    "for i in notlar:\n",
    "    if i not in benzersiz:\n",
    "        benzersiz.append(i)\n",
    "print(benzersiz)\n",
    "en_buyuk=max(benzersiz)\n",
    "en_kucuk=min(benzersiz)\n",
    "benzersiz.sort()\n",
    "\n",
    "print(benzersiz)\n",
    "print(f\"En büyük değer: {en_buyuk}\")\n",
    "print(f\"En küçük değer: {en_kucuk}\")\n"
   ]
  },
  {
   "cell_type": "code",
   "execution_count": 9,
   "id": "f09a0337-bfdd-4559-b169-726a0d1cc1e2",
   "metadata": {},
   "outputs": [
    {
     "name": "stdin",
     "output_type": "stream",
     "text": [
      "bir sayı giriniz: 5486\n"
     ]
    },
    {
     "name": "stdout",
     "output_type": "stream",
     "text": [
      "Armstrong sayısı değil\n"
     ]
    }
   ],
   "source": [
    "#soru 2\n",
    "def armstrong():\n",
    "    value =input(\"bir sayı giriniz:\")\n",
    "    liste_1=[int(rakam) for rakam in value]\n",
    "    liste_2=[sayi**3 for sayi in liste_1]\n",
    "    if sum(liste_2)==int(value):\n",
    "        print(\"Armstrong sayısı\")\n",
    "    else: print(\"Armstrong sayısı değil\")\n",
    "    \n",
    "    \n",
    "armstrong()\n",
    "\n",
    "\n",
    "\n"
   ]
  },
  {
   "cell_type": "code",
   "execution_count": 27,
   "id": "51fb25b8-456c-4016-aaf3-446431fb93c7",
   "metadata": {},
   "outputs": [
    {
     "name": "stdout",
     "output_type": "stream",
     "text": [
      "{'Python', 'SQL'}\n",
      "{'Java', 'R'}\n",
      "['C++', 'Java', 'JavaScript', 'Python', 'R', 'SQL']\n"
     ]
    }
   ],
   "source": [
    "#soru 3\n",
    "A = {\"Python\", \"R\", \"SQL\", \"Java\"}\n",
    "B = {\"C++\", \"Python\", \"JavaScript\", \"SQL\"}\n",
    "print(A.intersection(B))\n",
    "print(A.difference(B))\n",
    "birlesim = A.union(B)\n",
    "liste=sorted(birlesim)\n",
    "print(liste)"
   ]
  },
  {
   "cell_type": "code",
   "execution_count": 33,
   "id": "278f8d9f-b1c6-45ec-bfeb-e42cfaa2a62c",
   "metadata": {},
   "outputs": [
    {
     "name": "stdout",
     "output_type": "stream",
     "text": [
      "[48, 88, 92, 73, 44]\n",
      "ortalama: 69\n",
      "st_sapma: 22.20360331117452\n"
     ]
    }
   ],
   "source": [
    "#soru 4\n",
    "import random\n",
    "import statistics\n",
    "\n",
    "sayilar=[random.randint(1,101) for _ in range(5)]\n",
    "print(sayilar)\n",
    "ortalama = statistics.mean(sayilar)\n",
    "st_sapma = statistics.stdev(sayilar)\n",
    "print(f\"ortalama: {ortalama}\")\n",
    "print(f\"st_sapma: {st_sapma}\")\n"
   ]
  },
  {
   "cell_type": "code",
   "execution_count": 49,
   "id": "254316de-6227-4176-9272-de591205ffa1",
   "metadata": {},
   "outputs": [
    {
     "name": "stdin",
     "output_type": "stream",
     "text": [
      "Bir metin giriniz:  The Machine Learning Specialization is a foundational online program created in collaboration between DeepLearning.\n"
     ]
    },
    {
     "name": "stdout",
     "output_type": "stream",
     "text": [
      "Toplam kelime sayısı: 14\n",
      "En uzun kelime: Specialization\n",
      "En sık geçen kelime: The\n"
     ]
    }
   ],
   "source": [
    "#5\n",
    "def kelime_sayaci(metin):\n",
    "    \n",
    "    kelimeler = metin.split()  \n",
    "    toplam = len(kelimeler)\n",
    "    en_uzun = \"\"\n",
    "    for kelime in kelimeler:\n",
    "        if len(kelime) > len(en_uzun):\n",
    "            en_uzun = kelime\n",
    "    \n",
    "    en_sik = \"\"\n",
    "    en_sayi = 0\n",
    "    \n",
    "    for kelime in kelimeler:\n",
    "        adet = kelimeler.count(kelime)\n",
    "        if adet > en_sayi:\n",
    "            en_sayi = adet\n",
    "            en_sik = kelime\n",
    "    return toplam, en_uzun, en_sik\n",
    "    \n",
    "metin = input(\"Bir metin giriniz: \")\n",
    "\n",
    "sonuc = kelime_sayaci(metin)\n",
    "print(\"Toplam kelime sayısı:\", sonuc[0])\n",
    "print(\"En uzun kelime:\", sonuc[1])\n",
    "print(\"En sık geçen kelime:\", sonuc[2])\n"
   ]
  },
  {
   "cell_type": "code",
   "execution_count": 37,
   "id": "4e455a03-e602-442f-a4a6-8354831aad5b",
   "metadata": {},
   "outputs": [
    {
     "name": "stdout",
     "output_type": "stream",
     "text": [
      "[576, 324, 256, 144]\n"
     ]
    }
   ],
   "source": [
    "#soru 6\n",
    "sayilar = [5, 12, 7, 18, 24, 3, 16]\n",
    "\n",
    "ciftler = filter(lambda x: x % 2 == 0, sayilar)\n",
    "\n",
    "kareler = map(lambda x: x ** 2, ciftler)\n",
    "\n",
    "sonuc = sorted(kareler, reverse=True)\n",
    "\n",
    "print(list(sonuc))\n"
   ]
  },
  {
   "cell_type": "code",
   "execution_count": 38,
   "id": "4c44e3c6-0841-42c1-a350-f3e52b738caa",
   "metadata": {},
   "outputs": [
    {
     "name": "stdout",
     "output_type": "stream",
     "text": [
      "['veri', 'bilim', 'analiz', 'python', 'yapayzeka']\n"
     ]
    }
   ],
   "source": [
    "#soru 7\n",
    "kelimeler = [\"veri\", \"bilim\", \"analiz\", \"yapayzeka\", \"python\"]\n",
    "\n",
    "sirali = sorted(kelimeler, key=lambda x: len(x))\n",
    "\n",
    "print(sirali)\n",
    "\n",
    "    "
   ]
  },
  {
   "cell_type": "code",
   "execution_count": 3,
   "id": "11cfbd03-dd19-47ab-8eb3-c594716d69da",
   "metadata": {},
   "outputs": [
    {
     "name": "stdout",
     "output_type": "stream",
     "text": [
      "6\n"
     ]
    }
   ],
   "source": [
    "#soru 8\n",
    "def rakamlar():\n",
    "    kelime = \"abc12def3\"\n",
    "    sayilar = [int(karakter) for karakter in kelime if karakter.isdigit()]\n",
    "    return sum(sayilar)\n",
    "\n",
    "print(rakamlar())"
   ]
  },
  {
   "cell_type": "code",
   "execution_count": 46,
   "id": "67e1ac7a-4606-43bd-bd3d-e42cd3030b11",
   "metadata": {},
   "outputs": [
    {
     "name": "stdout",
     "output_type": "stream",
     "text": [
      "[12  0 42 50 35 47 41 40 35  9]\n",
      "ortalama: 31.1\n",
      "standart sapma: 16.603915200939806\n",
      "en büyük değer: 50\n"
     ]
    }
   ],
   "source": [
    "#soru 7\n",
    "import numpy as np\n",
    "sayilar=np.random.randint(0,51,10)\n",
    "print(sayilar)\n",
    "\n",
    "ort=np.mean(sayilar)\n",
    "std=np.std(sayilar)\n",
    "en_buyuk=np.max(sayilar)\n",
    "\n",
    "print(f\"ortalama: {ort}\")\n",
    "print(f\"standart sapma: {std}\")\n",
    "print(f\"en büyük değer: {en_buyuk}\")"
   ]
  },
  {
   "cell_type": "code",
   "execution_count": 48,
   "id": "c7cee493-3852-4dff-92c3-14ec2f1b8983",
   "metadata": {},
   "outputs": [
    {
     "name": "stdout",
     "output_type": "stream",
     "text": [
      "Orijinal Matris:\n",
      " [[0.15756217 0.32313989 0.02672266 0.0391449  0.76673833]\n",
      " [0.37605835 0.06972225 0.18530415 0.41824061 0.89982573]\n",
      " [0.57218123 0.62538673 0.07246724 0.32802108 0.47839945]\n",
      " [0.67253424 0.44333253 0.52811397 0.16510367 0.40287145]\n",
      " [0.4517828  0.05784102 0.18497672 0.14803635 0.36489971]]\n",
      "\n",
      "Her sütunun ortalaması: [0.44602376 0.30388448 0.19951695 0.21970933 0.58254694]\n",
      "\n",
      "Binary Matris:\n",
      " [[0 0 0 0 1]\n",
      " [0 0 0 0 1]\n",
      " [1 1 0 0 0]\n",
      " [1 0 1 0 0]\n",
      " [0 0 0 0 0]]\n"
     ]
    }
   ],
   "source": [
    "#soru 8\n",
    "import numpy as np\n",
    "\n",
    "matris = np.random.rand(5, 5)\n",
    "print(\"Orijinal Matris:\\n\", matris)\n",
    "\n",
    "sutun_ortalama = np.mean(matris, axis=0)\n",
    "print(\"\\nHer sütunun ortalaması:\", sutun_ortalama)\n",
    "\n",
    "binary_matris = np.where(matris > 0.5, 1, 0)\n",
    "print(\"\\nBinary Matris:\\n\", binary_matris)\n"
   ]
  },
  {
   "cell_type": "code",
   "execution_count": null,
   "id": "395e16bc-28e6-48cc-983f-6d95e56e2dcf",
   "metadata": {},
   "outputs": [],
   "source": []
  }
 ],
 "metadata": {
  "kernelspec": {
   "display_name": "Python 3 (ipykernel)",
   "language": "python",
   "name": "python3"
  },
  "language_info": {
   "codemirror_mode": {
    "name": "ipython",
    "version": 3
   },
   "file_extension": ".py",
   "mimetype": "text/x-python",
   "name": "python",
   "nbconvert_exporter": "python",
   "pygments_lexer": "ipython3",
   "version": "3.13.5"
  }
 },
 "nbformat": 4,
 "nbformat_minor": 5
}
